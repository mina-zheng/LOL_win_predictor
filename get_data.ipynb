{
 "cells": [
  {
   "cell_type": "code",
   "execution_count": 8,
   "id": "efe8e974",
   "metadata": {},
   "outputs": [],
   "source": [
    "import requests\n",
    "import passwords as pw\n",
    "import pandas as pd\n"
   ]
  },
  {
   "cell_type": "code",
   "execution_count": 9,
   "id": "74c56e08",
   "metadata": {},
   "outputs": [],
   "source": [
    "def get_puuid(game_name, tag_line, api_key):\n",
    "    api_url = (f\"https://americas.api.riotgames.com/riot/account/v1/accounts/by-riot-id/{game_name}/{tag_line}?api_key={api_key}\")\n",
    "    resp = requests.get(api_url)\n",
    "    player_info = resp.json()\n",
    "    return player_info['puuid']\n"
   ]
  },
  {
   "cell_type": "code",
   "execution_count": 25,
   "id": "46a3cd3d",
   "metadata": {},
   "outputs": [],
   "source": [
    "def get_active_game(puuid, api_key):\n",
    "    headers = {\"X-Riot-Token\": api_key}\n",
    "    api_url = (f\"https://na1.api.riotgames.com/lol/spectator/v5/active-games/by-summoner/{puuid}\")\n",
    "    resp = requests.get(api_url, headers = headers)\n",
    "    game_data = resp.json()\n",
    "\n",
    "    champion_ids = [player['championId'] for player in game_data['participants']]\n",
    "    return champion_ids\n"
   ]
  },
  {
   "cell_type": "code",
   "execution_count": 30,
   "id": "2c61c6df",
   "metadata": {},
   "outputs": [],
   "source": [
    "def champion_names(champ_ids):\n",
    "    version = requests.get(\"https://ddragon.leagueoflegends.com/api/versions.json\").json()[0]\n",
    "    api_url = f\"https://ddragon.leagueoflegends.com/cdn/{version}/data/en_US/champion.json\"\n",
    "    champs = requests.get(api_url).json()[\"data\"]\n",
    "    id_to_name = {int(name[\"key\"]): champ for champ, name in champs.items()}\n",
    "    \n",
    "    champ_names = [id_to_name.get(id, \"Unknown\") for id in champ_ids]\n",
    "    print(\"Champions in game:\", champ_names)"
   ]
  },
  {
   "cell_type": "code",
   "execution_count": 34,
   "id": "b53e84e5",
   "metadata": {},
   "outputs": [
    {
     "data": {
      "text/plain": [
       "'bCnPTf3VMxhRVLuPR3147HhV_hUrIRYSFt4fWgFUcIivP9tFWcJfuRWLwIliB8qChi9cIvcLztpaFA'"
      ]
     },
     "execution_count": 34,
     "metadata": {},
     "output_type": "execute_result"
    }
   ],
   "source": [
    "puuid = get_puuid(\"McDonaldsManager\", \"mid\", pw.API_KEY)\n",
    "puuid"
   ]
  },
  {
   "cell_type": "code",
   "execution_count": 33,
   "id": "4b1bcaa0",
   "metadata": {},
   "outputs": [
    {
     "data": {
      "text/plain": [
       "[21, 36, 12, 950, 105, 412, 106, 67, 266, 800]"
      ]
     },
     "execution_count": 33,
     "metadata": {},
     "output_type": "execute_result"
    }
   ],
   "source": [
    "ids = get_active_game(puuid, pw.API_KEY)\n",
    "ids"
   ]
  },
  {
   "cell_type": "code",
   "execution_count": 31,
   "id": "8e2a4261",
   "metadata": {},
   "outputs": [
    {
     "name": "stdout",
     "output_type": "stream",
     "text": [
      "Champions in game: ['MissFortune', 'DrMundo', 'Alistar', 'Naafiri', 'Fizz', 'Thresh', 'Volibear', 'Vayne', 'Aatrox', 'Mel']\n"
     ]
    }
   ],
   "source": [
    "champion_names(ids)"
   ]
  }
 ],
 "metadata": {
  "kernelspec": {
   "display_name": "env",
   "language": "python",
   "name": "python3"
  },
  "language_info": {
   "codemirror_mode": {
    "name": "ipython",
    "version": 3
   },
   "file_extension": ".py",
   "mimetype": "text/x-python",
   "name": "python",
   "nbconvert_exporter": "python",
   "pygments_lexer": "ipython3",
   "version": "3.13.3"
  }
 },
 "nbformat": 4,
 "nbformat_minor": 5
}
